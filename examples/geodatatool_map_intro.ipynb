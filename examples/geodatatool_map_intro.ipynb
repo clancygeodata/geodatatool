{
 "cells": [
  {
   "cell_type": "markdown",
   "id": "stable-killer",
   "metadata": {},
   "source": [
    "## Compare default map of geodatatool and ipyleaflet"
   ]
  },
  {
   "cell_type": "code",
   "execution_count": 1,
   "id": "desperate-providence",
   "metadata": {},
   "outputs": [],
   "source": [
    "# import package\n",
    "import geodatatool"
   ]
  },
  {
   "cell_type": "code",
   "execution_count": 2,
   "id": "choice-perfume",
   "metadata": {},
   "outputs": [
    {
     "data": {
      "application/vnd.jupyter.widget-view+json": {
       "model_id": "2aa37e692bf447f3b7dc88241e078471",
       "version_major": 2,
       "version_minor": 0
      },
      "text/plain": [
       "Map(center=[30, -90], controls=(ZoomControl(options=['position', 'zoom_in_text', 'zoom_in_title', 'zoom_out_te…"
      ]
     },
     "metadata": {},
     "output_type": "display_data"
    }
   ],
   "source": [
    "# define m as default geodatatool map\n",
    "m = geodatatool.Map()\n",
    "# display map\n",
    "m"
   ]
  },
  {
   "cell_type": "code",
   "execution_count": 3,
   "id": "nominated-footage",
   "metadata": {},
   "outputs": [],
   "source": [
    "# import package\n",
    "import ipyleaflet"
   ]
  },
  {
   "cell_type": "code",
   "execution_count": 4,
   "id": "pregnant-basketball",
   "metadata": {},
   "outputs": [
    {
     "data": {
      "application/vnd.jupyter.widget-view+json": {
       "model_id": "eae64ca1faa94eb9bd531da2d09cc6b2",
       "version_major": 2,
       "version_minor": 0
      },
      "text/plain": [
       "Map(center=[0.0, 0.0], controls=(ZoomControl(options=['position', 'zoom_in_text', 'zoom_in_title', 'zoom_out_t…"
      ]
     },
     "metadata": {},
     "output_type": "display_data"
    }
   ],
   "source": [
    "# define m as default ipyleaflet map\n",
    "m = ipyleaflet.Map()\n",
    "# display map\n",
    "m"
   ]
  },
  {
   "cell_type": "code",
   "execution_count": 5,
   "id": "secret-destruction",
   "metadata": {},
   "outputs": [
    {
     "data": {
      "application/vnd.jupyter.widget-view+json": {
       "model_id": "f28544d0b41349fda99975552b64db2a",
       "version_major": 2,
       "version_minor": 0
      },
      "text/plain": [
       "Map(center=[30, -90], controls=(ZoomControl(options=['position', 'zoom_in_text', 'zoom_in_title', 'zoom_out_te…"
      ]
     },
     "metadata": {},
     "output_type": "display_data"
    }
   ],
   "source": [
    "# define m as ipyleaflet map with same settings used as geodatatool default map\n",
    "\n",
    "m = ipyleaflet.Map(center=[30, -90], zoom=2)\n",
    "\n",
    "m.layout.height=\"600px\"\n",
    "\n",
    "m.add_control(ipyleaflet.FullScreenControl())\n",
    "m.add_control(ipyleaflet.LayersControl(position=\"topright\"))\n",
    "m.add_control(ipyleaflet.DrawControl(position=\"topleft\"))\n",
    "m.add_control(ipyleaflet.MeasureControl())\n",
    "m.add_control(ipyleaflet.ScaleControl(position=\"bottomleft\"))\n",
    "\n",
    "google_satellite = ipyleaflet.TileLayer(\n",
    "    url=\"https://mt1.google.com/vt/lyrs=y&x={x}&y={y}&z={z}\",\n",
    "    attribution=\"Google\",\n",
    "    name=\"Google Satellite\"\n",
    ")\n",
    "\n",
    "m.add_layer(google_satellite)\n",
    "\n",
    "# display map\n",
    "m"
   ]
  },
  {
   "cell_type": "markdown",
   "id": "touched-completion",
   "metadata": {},
   "source": [
    "## Set center, zoom, and height of geodatatool map"
   ]
  },
  {
   "cell_type": "code",
   "execution_count": 8,
   "id": "classical-prototype",
   "metadata": {},
   "outputs": [
    {
     "data": {
      "application/vnd.jupyter.widget-view+json": {
       "model_id": "b74a776c3e9948b391e946d31bed9ccb",
       "version_major": 2,
       "version_minor": 0
      },
      "text/plain": [
       "Map(center=[30, -85], controls=(ZoomControl(options=['position', 'zoom_in_text', 'zoom_in_title', 'zoom_out_te…"
      ]
     },
     "metadata": {},
     "output_type": "display_data"
    }
   ],
   "source": [
    "# define m as map with different center and zoom\n",
    "m = geodatatool.Map(center=[30, -85], zoom=5)\n",
    "# set display height at 450 pixels\n",
    "m.layout.height=\"450px\"\n",
    "# display map\n",
    "m"
   ]
  },
  {
   "cell_type": "markdown",
   "id": "adverse-extreme",
   "metadata": {},
   "source": [
    "## Add Google Maps road map layer to geodatatool map"
   ]
  },
  {
   "cell_type": "code",
   "execution_count": 10,
   "id": "skilled-victoria",
   "metadata": {},
   "outputs": [
    {
     "data": {
      "application/vnd.jupyter.widget-view+json": {
       "model_id": "19e27f6f3e7642b2932c39f0695efb90",
       "version_major": 2,
       "version_minor": 0
      },
      "text/plain": [
       "Map(center=[30, -85], controls=(ZoomControl(options=['position', 'zoom_in_text', 'zoom_in_title', 'zoom_out_te…"
      ]
     },
     "metadata": {},
     "output_type": "display_data"
    }
   ],
   "source": [
    "# define m as map\n",
    "# with same center and zoom used in previous map\n",
    "# and with Google Maps layer set as road map\n",
    "m = geodatatool.Map(center=[30, -85], zoom=5, google_map=\"ROADMAP\")\n",
    "# display map\n",
    "m"
   ]
  }
 ],
 "metadata": {
  "kernelspec": {
   "display_name": "Python 3",
   "language": "python",
   "name": "python3"
  },
  "language_info": {
   "codemirror_mode": {
    "name": "ipython",
    "version": 3
   },
   "file_extension": ".py",
   "mimetype": "text/x-python",
   "name": "python",
   "nbconvert_exporter": "python",
   "pygments_lexer": "ipython3",
   "version": "3.8.8"
  }
 },
 "nbformat": 4,
 "nbformat_minor": 5
}
