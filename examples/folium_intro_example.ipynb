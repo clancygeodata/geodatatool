{
 "cells": [
  {
   "cell_type": "markdown",
   "id": "psychological-colonial",
   "metadata": {},
   "source": [
    "## Create a simple map with folium package"
   ]
  },
  {
   "cell_type": "code",
   "execution_count": null,
   "id": "stylish-awareness",
   "metadata": {},
   "outputs": [],
   "source": [
    "# import package\n",
    "import folium"
   ]
  },
  {
   "cell_type": "code",
   "execution_count": null,
   "id": "abstract-collector",
   "metadata": {},
   "outputs": [],
   "source": [
    "# define map at specified location\n",
    "m = folium.Map(location=[45.5236, -122.6750])\n",
    "# display map\n",
    "m"
   ]
  }
 ],
 "metadata": {
  "hide_input": false,
  "kernelspec": {
   "display_name": "Python 3",
   "language": "python",
   "name": "python3"
  },
  "language_info": {
   "codemirror_mode": {
    "name": "ipython",
    "version": 3
   },
   "file_extension": ".py",
   "mimetype": "text/x-python",
   "name": "python",
   "nbconvert_exporter": "python",
   "pygments_lexer": "ipython3",
   "version": "3.8.8"
  },
  "toc": {
   "base_numbering": 1,
   "nav_menu": {},
   "number_sections": true,
   "sideBar": true,
   "skip_h1_title": false,
   "title_cell": "Table of Contents",
   "title_sidebar": "Contents",
   "toc_cell": false,
   "toc_position": {},
   "toc_section_display": true,
   "toc_window_display": false
  }
 },
 "nbformat": 4,
 "nbformat_minor": 5
}
