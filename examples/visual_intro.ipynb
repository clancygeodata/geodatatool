{
 "cells": [
  {
   "cell_type": "markdown",
   "id": "growing-agriculture",
   "metadata": {},
   "source": [
    "## Load an image from a URL"
   ]
  },
  {
   "cell_type": "code",
   "execution_count": null,
   "id": "further-watch",
   "metadata": {},
   "outputs": [],
   "source": [
    "from geodatatool import visual"
   ]
  },
  {
   "cell_type": "code",
   "execution_count": null,
   "id": "decent-press",
   "metadata": {},
   "outputs": [],
   "source": [
    "visual.load_image_from_url(\"https://upload.wikimedia.org/wikipedia/commons/6/61/Remote_Sensing_Illustration.jpg\")"
   ]
  },
  {
   "cell_type": "markdown",
   "id": "southwest-sword",
   "metadata": {},
   "source": [
    "## Display a YouTube video"
   ]
  },
  {
   "cell_type": "code",
   "execution_count": null,
   "id": "growing-operations",
   "metadata": {},
   "outputs": [],
   "source": [
    "from geodatatool import visual"
   ]
  },
  {
   "cell_type": "code",
   "execution_count": null,
   "id": "controversial-native",
   "metadata": {},
   "outputs": [],
   "source": [
    "visual.display_youtube(\"Ezn1ne2Fj6Y\")"
   ]
  }
 ],
 "metadata": {
  "kernelspec": {
   "display_name": "Python 3",
   "language": "python",
   "name": "python3"
  },
  "language_info": {
   "codemirror_mode": {
    "name": "ipython",
    "version": 3
   },
   "file_extension": ".py",
   "mimetype": "text/x-python",
   "name": "python",
   "nbconvert_exporter": "python",
   "pygments_lexer": "ipython3",
   "version": "3.8.8"
  }
 },
 "nbformat": 4,
 "nbformat_minor": 5
}
