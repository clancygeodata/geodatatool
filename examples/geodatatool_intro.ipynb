{
 "cells": [
  {
   "cell_type": "code",
   "execution_count": null,
   "id": "desperate-providence",
   "metadata": {},
   "outputs": [],
   "source": [
    "# import package\n",
    "import geodatatool"
   ]
  },
  {
   "cell_type": "code",
   "execution_count": null,
   "id": "choice-perfume",
   "metadata": {},
   "outputs": [],
   "source": [
    "# define m as default geodatatool map\n",
    "m = geodatatool.Map()\n",
    "# display map\n",
    "m"
   ]
  },
  {
   "cell_type": "code",
   "execution_count": null,
   "id": "nominated-footage",
   "metadata": {},
   "outputs": [],
   "source": [
    "# import package\n",
    "import ipyleaflet"
   ]
  },
  {
   "cell_type": "code",
   "execution_count": null,
   "id": "pregnant-basketball",
   "metadata": {},
   "outputs": [],
   "source": [
    "# define m as default ipyleaflet map\n",
    "m = ipyleaflet.Map()\n",
    "# display map\n",
    "m"
   ]
  },
  {
   "cell_type": "code",
   "execution_count": null,
   "id": "secret-destruction",
   "metadata": {},
   "outputs": [],
   "source": [
    "# define m as ipyleaflet map with same settings used as geodatatool default map\n",
    "\n",
    "m = ipyleaflet.Map(center=[30, -90], zoom=2)\n",
    "\n",
    "m.layout.height=\"600px\"\n",
    "\n",
    "m.add_control(ipyleaflet.FullScreenControl())\n",
    "m.add_control(ipyleaflet.LayersControl(position=\"topright\"))\n",
    "m.add_control(ipyleaflet.DrawControl(position=\"topleft\"))\n",
    "m.add_control(ipyleaflet.MeasureControl())\n",
    "m.add_control(ipyleaflet.ScaleControl(position=\"bottomleft\"))\n",
    "\n",
    "google_satellite = ipyleaflet.TileLayer(\n",
    "    url=\"https://mt1.google.com/vt/lyrs=y&x={x}&y={y}&z={z}\",\n",
    "    attribution=\"Google\",\n",
    "    name=\"Google Satellite\"\n",
    ")\n",
    "\n",
    "m.add_layer(google_satellite)\n",
    "\n",
    "# display map\n",
    "m"
   ]
  }
 ],
 "metadata": {
  "kernelspec": {
   "display_name": "Python 3",
   "language": "python",
   "name": "python3"
  },
  "language_info": {
   "codemirror_mode": {
    "name": "ipython",
    "version": 3
   },
   "file_extension": ".py",
   "mimetype": "text/x-python",
   "name": "python",
   "nbconvert_exporter": "python",
   "pygments_lexer": "ipython3",
   "version": "3.8.8"
  }
 },
 "nbformat": 4,
 "nbformat_minor": 5
}
