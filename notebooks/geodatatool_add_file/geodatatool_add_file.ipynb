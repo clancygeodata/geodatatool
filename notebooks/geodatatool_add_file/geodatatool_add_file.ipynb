{
 "cells": [
  {
   "cell_type": "markdown",
   "id": "improved-wrapping",
   "metadata": {},
   "source": [
    "## Add file to a map in shapefile or geoJSON format"
   ]
  },
  {
   "cell_type": "code",
   "execution_count": null,
   "id": "possible-judges",
   "metadata": {},
   "outputs": [],
   "source": [
    "import geodatatool\n",
    "import os"
   ]
  },
  {
   "cell_type": "code",
   "execution_count": null,
   "id": "animal-commercial",
   "metadata": {},
   "outputs": [],
   "source": [
    "m = geodatatool.Map()\n",
    "m"
   ]
  },
  {
   "cell_type": "code",
   "execution_count": null,
   "id": "independent-antenna",
   "metadata": {},
   "outputs": [],
   "source": [
    "green_style = {\n",
    "    \"stroke\": True,\n",
    "    \"color\": \"#00ff00\",\n",
    "    \"weight\": 4,\n",
    "    \"opacity\": 1,\n",
    "    \"fill\": False,\n",
    "    \"fillColor\": \"#000000\",\n",
    "    \"fillOpacity\": 0.2,\n",
    "}"
   ]
  },
  {
   "cell_type": "code",
   "execution_count": null,
   "id": "neutral-flight",
   "metadata": {},
   "outputs": [],
   "source": [
    "in_shp = \"./data/countries.shp\""
   ]
  },
  {
   "cell_type": "code",
   "execution_count": null,
   "id": "located-butler",
   "metadata": {},
   "outputs": [],
   "source": [
    "m.add_shapefile(in_shp, style=green_style, layer_name=\"Shapefile\")"
   ]
  },
  {
   "cell_type": "code",
   "execution_count": null,
   "id": "passive-medicaid",
   "metadata": {},
   "outputs": [],
   "source": [
    "in_geojson = \"./data/us_states.geojson\""
   ]
  },
  {
   "cell_type": "code",
   "execution_count": null,
   "id": "occasional-discipline",
   "metadata": {},
   "outputs": [],
   "source": [
    "m.add_geojson(in_geojson, layer_name=\"GeoJSON\")"
   ]
  }
 ],
 "metadata": {
  "kernelspec": {
   "display_name": "Python 3",
   "language": "python",
   "name": "python3"
  },
  "language_info": {
   "codemirror_mode": {
    "name": "ipython",
    "version": 3
   },
   "file_extension": ".py",
   "mimetype": "text/x-python",
   "name": "python",
   "nbconvert_exporter": "python",
   "pygments_lexer": "ipython3",
   "version": "3.8.8"
  }
 },
 "nbformat": 4,
 "nbformat_minor": 5
}
